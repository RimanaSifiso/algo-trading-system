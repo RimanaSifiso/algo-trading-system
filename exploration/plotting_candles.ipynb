{
 "cells": [
  {
   "cell_type": "code",
   "execution_count": 1,
   "id": "cccef630",
   "metadata": {},
   "outputs": [],
   "source": [
    "import pandas as pd \n",
    "import plotly.graph_objects as go\n",
    "import datetime as dt"
   ]
  },
  {
   "cell_type": "code",
   "execution_count": null,
   "id": "130ecc5c",
   "metadata": {},
   "outputs": [],
   "source": [
    "pair = 'EUR_USD'\n",
    "granularity = 'H4'\n",
    "\n",
    "df = pd.read_csv(f\"../data\")"
   ]
  }
 ],
 "metadata": {
  "kernelspec": {
   "display_name": "algo-trading-venv",
   "language": "python",
   "name": "python3"
  },
  "language_info": {
   "codemirror_mode": {
    "name": "ipython",
    "version": 3
   },
   "file_extension": ".py",
   "mimetype": "text/x-python",
   "name": "python",
   "nbconvert_exporter": "python",
   "pygments_lexer": "ipython3",
   "version": "3.13.3"
  }
 },
 "nbformat": 4,
 "nbformat_minor": 5
}
